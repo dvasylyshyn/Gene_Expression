{
  "nbformat": 4,
  "nbformat_minor": 0,
  "metadata": {
    "colab": {
      "name": "SVC",
      "provenance": [],
      "authorship_tag": "ABX9TyMlHQHAJiY8toPor+g2q8yR",
      "include_colab_link": true
    },
    "kernelspec": {
      "name": "python3",
      "display_name": "Python 3"
    },
    "language_info": {
      "name": "python"
    }
  },
  "cells": [
    {
      "cell_type": "markdown",
      "metadata": {
        "id": "view-in-github",
        "colab_type": "text"
      },
      "source": [
        "<a href=\"https://colab.research.google.com/github/dvasylyshyn/Gene_Expression/blob/main/SVC.ipynb\" target=\"_parent\"><img src=\"https://colab.research.google.com/assets/colab-badge.svg\" alt=\"Open In Colab\"/></a>"
      ]
    },
    {
      "cell_type": "code",
      "execution_count": null,
      "metadata": {
        "colab": {
          "resources": {
            "http://localhost:8080/nbextensions/google.colab/files.js": {
              "data": "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",
              "ok": true,
              "headers": [
                [
                  "content-type",
                  "application/javascript"
                ]
              ],
              "status": 200,
              "status_text": ""
            }
          },
          "base_uri": "https://localhost:8080/",
          "height": 73
        },
        "id": "ki_j0UpihzGd",
        "outputId": "e96854f8-434f-4639-9cad-617c209149a9"
      },
      "outputs": [
        {
          "output_type": "display_data",
          "data": {
            "text/plain": [
              "<IPython.core.display.HTML object>"
            ],
            "text/html": [
              "\n",
              "     <input type=\"file\" id=\"files-26be2c23-48b4-4f19-b36c-72ad0bdd855e\" name=\"files[]\" multiple disabled\n",
              "        style=\"border:none\" />\n",
              "     <output id=\"result-26be2c23-48b4-4f19-b36c-72ad0bdd855e\">\n",
              "      Upload widget is only available when the cell has been executed in the\n",
              "      current browser session. Please rerun this cell to enable.\n",
              "      </output>\n",
              "      <script src=\"/nbextensions/google.colab/files.js\"></script> "
            ]
          },
          "metadata": {}
        },
        {
          "output_type": "stream",
          "name": "stdout",
          "text": [
            "Saving data2.csv to data2 (1).csv\n"
          ]
        }
      ],
      "source": [
        "\n",
        "import pandas as pd\n",
        "import matplotlib.pyplot as plt\n",
        "from matplotlib import style\n",
        "style.use(\"ggplot\")\n",
        "import numpy as np\n",
        "import io\n",
        "from google.colab import files\n",
        "uploaded = files.upload()"
      ]
    },
    {
      "cell_type": "code",
      "source": [
        "df = pd.read_csv(io.BytesIO(uploaded['data2.csv']))"
      ],
      "metadata": {
        "id": "gN94D6DfmIpG"
      },
      "execution_count": null,
      "outputs": []
    },
    {
      "cell_type": "code",
      "source": [
        "df\n"
      ],
      "metadata": {
        "colab": {
          "base_uri": "https://localhost:8080/",
          "height": 468
        },
        "id": "ICuS5xnWTGxy",
        "outputId": "64919a4c-4571-4b36-f311-da3ba4606c53"
      },
      "execution_count": null,
      "outputs": [
        {
          "output_type": "execute_result",
          "data": {
            "text/plain": [
              "     Unnamed: 0 Unnamed: 0.1 Class  Class2    gene_3     gene_4     gene_6  \\\n",
              "0           405   sample_405  BRCA       0  7.568853  10.127543  10.063179   \n",
              "1           406   sample_406  BRCA       0  7.111699  11.355621   9.025710   \n",
              "2           407   sample_407  BRCA       0  6.015689   9.226675   7.422965   \n",
              "3           409   sample_409  BRCA       0  6.329416   9.936533   7.930034   \n",
              "4           410   sample_410  BRCA       0  6.156666  11.006705   8.746330   \n",
              "..          ...          ...   ...     ...       ...        ...        ...   \n",
              "647         783   sample_783  PRAD       4  6.427137  10.432187   8.353760   \n",
              "648         788   sample_788  PRAD       4  6.369039   9.684507   7.929903   \n",
              "649         794   sample_794  PRAD       4  7.209151   9.875620   7.332717   \n",
              "650         799   sample_799  PRAD       4  7.318624   9.987136   9.213464   \n",
              "651         800   sample_800  PRAD       4  6.530246   9.560367   7.957027   \n",
              "\n",
              "       gene_19   gene_22    gene_27  ...  gene_16360  gene_16362  gene_16363  \\\n",
              "0     7.815678  8.909473  10.095094  ...    9.155562    9.529384    6.450619   \n",
              "1     7.442496  8.368445   9.818013  ...    8.671739    5.745124    0.751549   \n",
              "2     9.414979  6.492598   8.749776  ...    9.211978    8.273847    3.635325   \n",
              "3    10.953098  8.498901   8.683075  ...   10.552227    9.107696    7.328567   \n",
              "4     8.034386  8.241611   9.538078  ...    8.938665    6.612358    4.866498   \n",
              "..         ...       ...        ...  ...         ...         ...         ...   \n",
              "647   5.613579  9.077053  11.498555  ...   10.530299    4.956800    4.191105   \n",
              "648   9.153674  7.179372   9.159773  ...   10.343308    6.595389    4.453412   \n",
              "649   9.316162  6.810816   9.642637  ...   10.359222    7.197610    6.388563   \n",
              "650   7.987867  9.770383  10.163713  ...   10.508785    6.842489    5.312814   \n",
              "651   9.261148  7.880000   9.288070  ...    9.820959    7.976627    5.237067   \n",
              "\n",
              "     gene_16365  gene_16368  gene_16370  gene_16373  gene_16374  gene_16375  \\\n",
              "0      9.686227    9.358300   11.031894    8.762462    9.191977    9.506149   \n",
              "1      9.298968    9.453246   10.766545    8.657354    9.081385    5.295745   \n",
              "2      9.161661    9.312320   10.578297    7.212618   11.884155    9.107042   \n",
              "3      9.117344    9.551860   11.089801    6.901482   12.187664    7.587545   \n",
              "4      8.031158    9.677496   11.090920    7.979019    9.509320    5.246993   \n",
              "..          ...         ...         ...         ...         ...         ...   \n",
              "647    9.077053    8.849974   11.267992    7.923642    7.038436    2.069496   \n",
              "648    8.166339    9.349564   10.577986    7.237191   10.027920    7.836555   \n",
              "649    8.965888    8.950334   10.832170    7.409179    9.823211    5.177543   \n",
              "650    9.707483    8.989261   12.104949    7.673691    9.408519    3.991236   \n",
              "651    9.364465    8.837877   10.606859    8.185217    9.822217    5.408522   \n",
              "\n",
              "     gene_16382  \n",
              "0      9.542954  \n",
              "1      8.642821  \n",
              "2      9.779051  \n",
              "3      9.054401  \n",
              "4      9.782148  \n",
              "..          ...  \n",
              "647    7.931943  \n",
              "648    8.725271  \n",
              "649    9.059536  \n",
              "650    9.130936  \n",
              "651    9.555136  \n",
              "\n",
              "[652 rows x 9764 columns]"
            ],
            "text/html": [
              "\n",
              "  <div id=\"df-75cd3f52-018e-4579-83b8-cfbcf074f443\">\n",
              "    <div class=\"colab-df-container\">\n",
              "      <div>\n",
              "<style scoped>\n",
              "    .dataframe tbody tr th:only-of-type {\n",
              "        vertical-align: middle;\n",
              "    }\n",
              "\n",
              "    .dataframe tbody tr th {\n",
              "        vertical-align: top;\n",
              "    }\n",
              "\n",
              "    .dataframe thead th {\n",
              "        text-align: right;\n",
              "    }\n",
              "</style>\n",
              "<table border=\"1\" class=\"dataframe\">\n",
              "  <thead>\n",
              "    <tr style=\"text-align: right;\">\n",
              "      <th></th>\n",
              "      <th>Unnamed: 0</th>\n",
              "      <th>Unnamed: 0.1</th>\n",
              "      <th>Class</th>\n",
              "      <th>Class2</th>\n",
              "      <th>gene_3</th>\n",
              "      <th>gene_4</th>\n",
              "      <th>gene_6</th>\n",
              "      <th>gene_19</th>\n",
              "      <th>gene_22</th>\n",
              "      <th>gene_27</th>\n",
              "      <th>...</th>\n",
              "      <th>gene_16360</th>\n",
              "      <th>gene_16362</th>\n",
              "      <th>gene_16363</th>\n",
              "      <th>gene_16365</th>\n",
              "      <th>gene_16368</th>\n",
              "      <th>gene_16370</th>\n",
              "      <th>gene_16373</th>\n",
              "      <th>gene_16374</th>\n",
              "      <th>gene_16375</th>\n",
              "      <th>gene_16382</th>\n",
              "    </tr>\n",
              "  </thead>\n",
              "  <tbody>\n",
              "    <tr>\n",
              "      <th>0</th>\n",
              "      <td>405</td>\n",
              "      <td>sample_405</td>\n",
              "      <td>BRCA</td>\n",
              "      <td>0</td>\n",
              "      <td>7.568853</td>\n",
              "      <td>10.127543</td>\n",
              "      <td>10.063179</td>\n",
              "      <td>7.815678</td>\n",
              "      <td>8.909473</td>\n",
              "      <td>10.095094</td>\n",
              "      <td>...</td>\n",
              "      <td>9.155562</td>\n",
              "      <td>9.529384</td>\n",
              "      <td>6.450619</td>\n",
              "      <td>9.686227</td>\n",
              "      <td>9.358300</td>\n",
              "      <td>11.031894</td>\n",
              "      <td>8.762462</td>\n",
              "      <td>9.191977</td>\n",
              "      <td>9.506149</td>\n",
              "      <td>9.542954</td>\n",
              "    </tr>\n",
              "    <tr>\n",
              "      <th>1</th>\n",
              "      <td>406</td>\n",
              "      <td>sample_406</td>\n",
              "      <td>BRCA</td>\n",
              "      <td>0</td>\n",
              "      <td>7.111699</td>\n",
              "      <td>11.355621</td>\n",
              "      <td>9.025710</td>\n",
              "      <td>7.442496</td>\n",
              "      <td>8.368445</td>\n",
              "      <td>9.818013</td>\n",
              "      <td>...</td>\n",
              "      <td>8.671739</td>\n",
              "      <td>5.745124</td>\n",
              "      <td>0.751549</td>\n",
              "      <td>9.298968</td>\n",
              "      <td>9.453246</td>\n",
              "      <td>10.766545</td>\n",
              "      <td>8.657354</td>\n",
              "      <td>9.081385</td>\n",
              "      <td>5.295745</td>\n",
              "      <td>8.642821</td>\n",
              "    </tr>\n",
              "    <tr>\n",
              "      <th>2</th>\n",
              "      <td>407</td>\n",
              "      <td>sample_407</td>\n",
              "      <td>BRCA</td>\n",
              "      <td>0</td>\n",
              "      <td>6.015689</td>\n",
              "      <td>9.226675</td>\n",
              "      <td>7.422965</td>\n",
              "      <td>9.414979</td>\n",
              "      <td>6.492598</td>\n",
              "      <td>8.749776</td>\n",
              "      <td>...</td>\n",
              "      <td>9.211978</td>\n",
              "      <td>8.273847</td>\n",
              "      <td>3.635325</td>\n",
              "      <td>9.161661</td>\n",
              "      <td>9.312320</td>\n",
              "      <td>10.578297</td>\n",
              "      <td>7.212618</td>\n",
              "      <td>11.884155</td>\n",
              "      <td>9.107042</td>\n",
              "      <td>9.779051</td>\n",
              "    </tr>\n",
              "    <tr>\n",
              "      <th>3</th>\n",
              "      <td>409</td>\n",
              "      <td>sample_409</td>\n",
              "      <td>BRCA</td>\n",
              "      <td>0</td>\n",
              "      <td>6.329416</td>\n",
              "      <td>9.936533</td>\n",
              "      <td>7.930034</td>\n",
              "      <td>10.953098</td>\n",
              "      <td>8.498901</td>\n",
              "      <td>8.683075</td>\n",
              "      <td>...</td>\n",
              "      <td>10.552227</td>\n",
              "      <td>9.107696</td>\n",
              "      <td>7.328567</td>\n",
              "      <td>9.117344</td>\n",
              "      <td>9.551860</td>\n",
              "      <td>11.089801</td>\n",
              "      <td>6.901482</td>\n",
              "      <td>12.187664</td>\n",
              "      <td>7.587545</td>\n",
              "      <td>9.054401</td>\n",
              "    </tr>\n",
              "    <tr>\n",
              "      <th>4</th>\n",
              "      <td>410</td>\n",
              "      <td>sample_410</td>\n",
              "      <td>BRCA</td>\n",
              "      <td>0</td>\n",
              "      <td>6.156666</td>\n",
              "      <td>11.006705</td>\n",
              "      <td>8.746330</td>\n",
              "      <td>8.034386</td>\n",
              "      <td>8.241611</td>\n",
              "      <td>9.538078</td>\n",
              "      <td>...</td>\n",
              "      <td>8.938665</td>\n",
              "      <td>6.612358</td>\n",
              "      <td>4.866498</td>\n",
              "      <td>8.031158</td>\n",
              "      <td>9.677496</td>\n",
              "      <td>11.090920</td>\n",
              "      <td>7.979019</td>\n",
              "      <td>9.509320</td>\n",
              "      <td>5.246993</td>\n",
              "      <td>9.782148</td>\n",
              "    </tr>\n",
              "    <tr>\n",
              "      <th>...</th>\n",
              "      <td>...</td>\n",
              "      <td>...</td>\n",
              "      <td>...</td>\n",
              "      <td>...</td>\n",
              "      <td>...</td>\n",
              "      <td>...</td>\n",
              "      <td>...</td>\n",
              "      <td>...</td>\n",
              "      <td>...</td>\n",
              "      <td>...</td>\n",
              "      <td>...</td>\n",
              "      <td>...</td>\n",
              "      <td>...</td>\n",
              "      <td>...</td>\n",
              "      <td>...</td>\n",
              "      <td>...</td>\n",
              "      <td>...</td>\n",
              "      <td>...</td>\n",
              "      <td>...</td>\n",
              "      <td>...</td>\n",
              "      <td>...</td>\n",
              "    </tr>\n",
              "    <tr>\n",
              "      <th>647</th>\n",
              "      <td>783</td>\n",
              "      <td>sample_783</td>\n",
              "      <td>PRAD</td>\n",
              "      <td>4</td>\n",
              "      <td>6.427137</td>\n",
              "      <td>10.432187</td>\n",
              "      <td>8.353760</td>\n",
              "      <td>5.613579</td>\n",
              "      <td>9.077053</td>\n",
              "      <td>11.498555</td>\n",
              "      <td>...</td>\n",
              "      <td>10.530299</td>\n",
              "      <td>4.956800</td>\n",
              "      <td>4.191105</td>\n",
              "      <td>9.077053</td>\n",
              "      <td>8.849974</td>\n",
              "      <td>11.267992</td>\n",
              "      <td>7.923642</td>\n",
              "      <td>7.038436</td>\n",
              "      <td>2.069496</td>\n",
              "      <td>7.931943</td>\n",
              "    </tr>\n",
              "    <tr>\n",
              "      <th>648</th>\n",
              "      <td>788</td>\n",
              "      <td>sample_788</td>\n",
              "      <td>PRAD</td>\n",
              "      <td>4</td>\n",
              "      <td>6.369039</td>\n",
              "      <td>9.684507</td>\n",
              "      <td>7.929903</td>\n",
              "      <td>9.153674</td>\n",
              "      <td>7.179372</td>\n",
              "      <td>9.159773</td>\n",
              "      <td>...</td>\n",
              "      <td>10.343308</td>\n",
              "      <td>6.595389</td>\n",
              "      <td>4.453412</td>\n",
              "      <td>8.166339</td>\n",
              "      <td>9.349564</td>\n",
              "      <td>10.577986</td>\n",
              "      <td>7.237191</td>\n",
              "      <td>10.027920</td>\n",
              "      <td>7.836555</td>\n",
              "      <td>8.725271</td>\n",
              "    </tr>\n",
              "    <tr>\n",
              "      <th>649</th>\n",
              "      <td>794</td>\n",
              "      <td>sample_794</td>\n",
              "      <td>PRAD</td>\n",
              "      <td>4</td>\n",
              "      <td>7.209151</td>\n",
              "      <td>9.875620</td>\n",
              "      <td>7.332717</td>\n",
              "      <td>9.316162</td>\n",
              "      <td>6.810816</td>\n",
              "      <td>9.642637</td>\n",
              "      <td>...</td>\n",
              "      <td>10.359222</td>\n",
              "      <td>7.197610</td>\n",
              "      <td>6.388563</td>\n",
              "      <td>8.965888</td>\n",
              "      <td>8.950334</td>\n",
              "      <td>10.832170</td>\n",
              "      <td>7.409179</td>\n",
              "      <td>9.823211</td>\n",
              "      <td>5.177543</td>\n",
              "      <td>9.059536</td>\n",
              "    </tr>\n",
              "    <tr>\n",
              "      <th>650</th>\n",
              "      <td>799</td>\n",
              "      <td>sample_799</td>\n",
              "      <td>PRAD</td>\n",
              "      <td>4</td>\n",
              "      <td>7.318624</td>\n",
              "      <td>9.987136</td>\n",
              "      <td>9.213464</td>\n",
              "      <td>7.987867</td>\n",
              "      <td>9.770383</td>\n",
              "      <td>10.163713</td>\n",
              "      <td>...</td>\n",
              "      <td>10.508785</td>\n",
              "      <td>6.842489</td>\n",
              "      <td>5.312814</td>\n",
              "      <td>9.707483</td>\n",
              "      <td>8.989261</td>\n",
              "      <td>12.104949</td>\n",
              "      <td>7.673691</td>\n",
              "      <td>9.408519</td>\n",
              "      <td>3.991236</td>\n",
              "      <td>9.130936</td>\n",
              "    </tr>\n",
              "    <tr>\n",
              "      <th>651</th>\n",
              "      <td>800</td>\n",
              "      <td>sample_800</td>\n",
              "      <td>PRAD</td>\n",
              "      <td>4</td>\n",
              "      <td>6.530246</td>\n",
              "      <td>9.560367</td>\n",
              "      <td>7.957027</td>\n",
              "      <td>9.261148</td>\n",
              "      <td>7.880000</td>\n",
              "      <td>9.288070</td>\n",
              "      <td>...</td>\n",
              "      <td>9.820959</td>\n",
              "      <td>7.976627</td>\n",
              "      <td>5.237067</td>\n",
              "      <td>9.364465</td>\n",
              "      <td>8.837877</td>\n",
              "      <td>10.606859</td>\n",
              "      <td>8.185217</td>\n",
              "      <td>9.822217</td>\n",
              "      <td>5.408522</td>\n",
              "      <td>9.555136</td>\n",
              "    </tr>\n",
              "  </tbody>\n",
              "</table>\n",
              "<p>652 rows × 9764 columns</p>\n",
              "</div>\n",
              "      <button class=\"colab-df-convert\" onclick=\"convertToInteractive('df-75cd3f52-018e-4579-83b8-cfbcf074f443')\"\n",
              "              title=\"Convert this dataframe to an interactive table.\"\n",
              "              style=\"display:none;\">\n",
              "        \n",
              "  <svg xmlns=\"http://www.w3.org/2000/svg\" height=\"24px\"viewBox=\"0 0 24 24\"\n",
              "       width=\"24px\">\n",
              "    <path d=\"M0 0h24v24H0V0z\" fill=\"none\"/>\n",
              "    <path d=\"M18.56 5.44l.94 2.06.94-2.06 2.06-.94-2.06-.94-.94-2.06-.94 2.06-2.06.94zm-11 1L8.5 8.5l.94-2.06 2.06-.94-2.06-.94L8.5 2.5l-.94 2.06-2.06.94zm10 10l.94 2.06.94-2.06 2.06-.94-2.06-.94-.94-2.06-.94 2.06-2.06.94z\"/><path d=\"M17.41 7.96l-1.37-1.37c-.4-.4-.92-.59-1.43-.59-.52 0-1.04.2-1.43.59L10.3 9.45l-7.72 7.72c-.78.78-.78 2.05 0 2.83L4 21.41c.39.39.9.59 1.41.59.51 0 1.02-.2 1.41-.59l7.78-7.78 2.81-2.81c.8-.78.8-2.07 0-2.86zM5.41 20L4 18.59l7.72-7.72 1.47 1.35L5.41 20z\"/>\n",
              "  </svg>\n",
              "      </button>\n",
              "      \n",
              "  <style>\n",
              "    .colab-df-container {\n",
              "      display:flex;\n",
              "      flex-wrap:wrap;\n",
              "      gap: 12px;\n",
              "    }\n",
              "\n",
              "    .colab-df-convert {\n",
              "      background-color: #E8F0FE;\n",
              "      border: none;\n",
              "      border-radius: 50%;\n",
              "      cursor: pointer;\n",
              "      display: none;\n",
              "      fill: #1967D2;\n",
              "      height: 32px;\n",
              "      padding: 0 0 0 0;\n",
              "      width: 32px;\n",
              "    }\n",
              "\n",
              "    .colab-df-convert:hover {\n",
              "      background-color: #E2EBFA;\n",
              "      box-shadow: 0px 1px 2px rgba(60, 64, 67, 0.3), 0px 1px 3px 1px rgba(60, 64, 67, 0.15);\n",
              "      fill: #174EA6;\n",
              "    }\n",
              "\n",
              "    [theme=dark] .colab-df-convert {\n",
              "      background-color: #3B4455;\n",
              "      fill: #D2E3FC;\n",
              "    }\n",
              "\n",
              "    [theme=dark] .colab-df-convert:hover {\n",
              "      background-color: #434B5C;\n",
              "      box-shadow: 0px 1px 3px 1px rgba(0, 0, 0, 0.15);\n",
              "      filter: drop-shadow(0px 1px 2px rgba(0, 0, 0, 0.3));\n",
              "      fill: #FFFFFF;\n",
              "    }\n",
              "  </style>\n",
              "\n",
              "      <script>\n",
              "        const buttonEl =\n",
              "          document.querySelector('#df-75cd3f52-018e-4579-83b8-cfbcf074f443 button.colab-df-convert');\n",
              "        buttonEl.style.display =\n",
              "          google.colab.kernel.accessAllowed ? 'block' : 'none';\n",
              "\n",
              "        async function convertToInteractive(key) {\n",
              "          const element = document.querySelector('#df-75cd3f52-018e-4579-83b8-cfbcf074f443');\n",
              "          const dataTable =\n",
              "            await google.colab.kernel.invokeFunction('convertToInteractive',\n",
              "                                                     [key], {});\n",
              "          if (!dataTable) return;\n",
              "\n",
              "          const docLinkHtml = 'Like what you see? Visit the ' +\n",
              "            '<a target=\"_blank\" href=https://colab.research.google.com/notebooks/data_table.ipynb>data table notebook</a>'\n",
              "            + ' to learn more about interactive tables.';\n",
              "          element.innerHTML = '';\n",
              "          dataTable['output_type'] = 'display_data';\n",
              "          await google.colab.output.renderOutput(dataTable, element);\n",
              "          const docLink = document.createElement('div');\n",
              "          docLink.innerHTML = docLinkHtml;\n",
              "          element.appendChild(docLink);\n",
              "        }\n",
              "      </script>\n",
              "    </div>\n",
              "  </div>\n",
              "  "
            ]
          },
          "metadata": {},
          "execution_count": 5
        }
      ]
    },
    {
      "cell_type": "code",
      "source": [
        "X=df.iloc[:,4:9764]\n",
        "y=df.iloc[:,[2]]"
      ],
      "metadata": {
        "id": "0f6O6O5nmI9x"
      },
      "execution_count": null,
      "outputs": []
    },
    {
      "cell_type": "code",
      "source": [
        "y.value_counts()"
      ],
      "metadata": {
        "colab": {
          "base_uri": "https://localhost:8080/"
        },
        "id": "F39hf7kDpiyU",
        "outputId": "6755b71e-b6e8-4bf0-f74a-db1d8bf4f9f7"
      },
      "execution_count": null,
      "outputs": [
        {
          "output_type": "execute_result",
          "data": {
            "text/plain": [
              "Class\n",
              "BRCA     151\n",
              "KIRC     146\n",
              "LUAD     141\n",
              "PRAD     136\n",
              "COAD      78\n",
              "dtype: int64"
            ]
          },
          "metadata": {},
          "execution_count": 16
        }
      ]
    },
    {
      "cell_type": "code",
      "source": [
        "# Show pie plot (Approach 1)\n",
        "y.value_counts().plot.pie(autopct='%.2f')"
      ],
      "metadata": {
        "colab": {
          "base_uri": "https://localhost:8080/",
          "height": 265
        },
        "id": "CBiY1FVVYI3M",
        "outputId": "8f7c445d-3a53-475f-fb45-d39bdfc37ec1"
      },
      "execution_count": null,
      "outputs": [
        {
          "output_type": "execute_result",
          "data": {
            "text/plain": [
              "<matplotlib.axes._subplots.AxesSubplot at 0x7f77b79ecf50>"
            ]
          },
          "metadata": {},
          "execution_count": 17
        },
        {
          "output_type": "display_data",
          "data": {
            "text/plain": [
              "<Figure size 432x288 with 1 Axes>"
            ],
            "image/png": "[encoded data removed]"
          },
          "metadata": {}
        }
      ]
    },
    {
      "cell_type": "code",
      "source": [
        "from sklearn.model_selection import train_test_split\n",
        "X_train, X_test, y_train, y_test = train_test_split(X, y, test_size = 0.50)\n"
      ],
      "metadata": {
        "id": "8vLN354wmJLn"
      },
      "execution_count": null,
      "outputs": []
    },
    {
      "cell_type": "code",
      "source": [
        ""
      ],
      "metadata": {
        "id": "-s1B2o3GAoBf"
      },
      "execution_count": null,
      "outputs": []
    },
    {
      "cell_type": "code",
      "source": [
        "from sklearn import svm\n",
        "#create a classifier\n",
        "cls = svm.SVC(kernel=\"linear\")\n",
        "#train the model\n",
        "cls.fit(X_train,y_train.values.ravel())\n",
        "#predict the response\n",
        "pred = cls.predict(X_test)\n"
      ],
      "metadata": {
        "id": "FlCoQz8EmJX1"
      },
      "execution_count": null,
      "outputs": []
    },
    {
      "cell_type": "code",
      "source": [
        "from sklearn.metrics import confusion_matrix,accuracy_score\n",
        "cm = confusion_matrix(y_test, pred)\n",
        "ac = accuracy_score(y_test,pred)"
      ],
      "metadata": {
        "id": "-WwRSLXTBYe4"
      },
      "execution_count": null,
      "outputs": []
    },
    {
      "cell_type": "code",
      "source": [
        "print(\"Confusion Matrix:\\n\", + cm)\n",
        "print()\n",
        "print(\"Accuracy Score: \", + ac)"
      ],
      "metadata": {
        "colab": {
          "base_uri": "https://localhost:8080/"
        },
        "id": "tqM1PUuIBY2d",
        "outputId": "33b660bb-ca4d-4ce7-99bc-56f519c3f20e"
      },
      "execution_count": null,
      "outputs": [
        {
          "output_type": "stream",
          "name": "stdout",
          "text": [
            "Confusion Matrix:\n",
            " [[78  0  0  0  0]\n",
            " [ 0 43  0  0  0]\n",
            " [ 0  0 75  0  0]\n",
            " [ 1  0  0 64  0]\n",
            " [ 0  0  0  0 65]]\n",
            "\n",
            "Accuracy Score:  0.9969325153374233\n"
          ]
        }
      ]
    },
    {
      "cell_type": "code",
      "source": [
        "from sklearn import metrics\n"
      ],
      "metadata": {
        "id": "Y5za637mmJ_p"
      },
      "execution_count": null,
      "outputs": []
    },
    {
      "cell_type": "code",
      "source": [
        "#accuracy\n",
        "print(\"acuracy:\", metrics.accuracy_score(y_test,y_pred=pred))\n",
        "print(\"precision:\", metrics.precision_score(y_test,y_pred=pred,average=\"micro\"))\n",
        "print(\"recall\" , metrics.recall_score(y_test,y_pred=pred,average=\"micro\"))\n",
        "print(metrics.classification_report(y_test, y_pred=pred))"
      ],
      "metadata": {
        "colab": {
          "base_uri": "https://localhost:8080/"
        },
        "id": "wcgdq1xFmKc1",
        "outputId": "0da01414-4a72-47b6-bb5b-7ef412ed1ecb"
      },
      "execution_count": null,
      "outputs": [
        {
          "output_type": "stream",
          "name": "stdout",
          "text": [
            "acuracy: 0.9969325153374233\n",
            "precision: 0.9969325153374233\n",
            "recall 0.9969325153374233\n",
            "              precision    recall  f1-score   support\n",
            "\n",
            "        BRCA       0.99      1.00      0.99        78\n",
            "        COAD       1.00      1.00      1.00        43\n",
            "        KIRC       1.00      1.00      1.00        75\n",
            "        LUAD       1.00      0.98      0.99        65\n",
            "        PRAD       1.00      1.00      1.00        65\n",
            "\n",
            "    accuracy                           1.00       326\n",
            "   macro avg       1.00      1.00      1.00       326\n",
            "weighted avg       1.00      1.00      1.00       326\n",
            "\n"
          ]
        }
      ]
    },
    {
      "cell_type": "code",
      "source": [
        ""
      ],
      "metadata": {
        "id": "5kHpbPQImKnk"
      },
      "execution_count": null,
      "outputs": []
    }
  ]
}